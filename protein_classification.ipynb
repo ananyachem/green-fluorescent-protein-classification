{
 "cells": [
  {
   "cell_type": "code",
   "execution_count": 3,
   "metadata": {},
   "outputs": [],
   "source": [
    "import numpy as np\n",
    "import pandas as pd\n",
    "from sklearn.preprocessing import OneHotEncoder \n",
    "from sklearn.preprocessing import StandardScaler\n",
    "from sklearn.model_selection import train_test_split\n",
    "from sklearn import svm\n",
    "from sklearn.tree import DecisionTreeClassifier\n",
    "from sklearn.linear_model import LogisticRegression, RidgeClassifier\n",
    "from sklearn.ensemble import StackingClassifier\n",
    "from sklearn.metrics import accuracy_score, f1_score\n",
    "from sklearn.model_selection import StratifiedKFold, cross_val_score"
   ]
  },
  {
   "cell_type": "code",
   "execution_count": 4,
   "metadata": {},
   "outputs": [
    {
     "name": "stdout",
     "output_type": "stream",
     "text": [
      "(31029, 3)\n",
      "(31029, 3)\n",
      "(20686, 2)\n"
     ]
    }
   ],
   "source": [
    "train_X = pd.read_csv('train_X.csv') \n",
    "train_y = pd.read_csv('train_y.csv')\n",
    "test_X = pd.read_csv('test_X.csv')\n",
    "\n",
    "print(train_X.shape)\n",
    "print(train_y.shape)\n",
    "print(test_X.shape)"
   ]
  },
  {
   "cell_type": "code",
   "execution_count": null,
   "metadata": {},
   "outputs": [],
   "source": [
    "train_X = train_X.drop('Unnamed: 0', axis=1)\n",
    "\n",
    "ids = test_X['Id']\n",
    "test_data = test_X.drop(columns=['Id'])\n",
    "\n",
    "train_y = train_y.drop(['Unnamed: 0', 'Id'], axis=1)\n",
    "train_y = np.ravel(train_y)"
   ]
  },
  {
   "cell_type": "code",
   "execution_count": 54,
   "metadata": {},
   "outputs": [
    {
     "name": "stdout",
     "output_type": "stream",
     "text": [
      "Class distribution: {0: 18948, 1: 12081}\n"
     ]
    }
   ],
   "source": [
    "unique, counts = np.unique(train_y, return_counts=True)\n",
    "class_distribution = dict(zip(unique, counts))\n",
    "print(\"Class distribution:\", class_distribution)"
   ]
  },
  {
   "cell_type": "markdown",
   "metadata": {},
   "source": [
    "# Feature Engineering"
   ]
  },
  {
   "cell_type": "code",
   "execution_count": null,
   "metadata": {},
   "outputs": [],
   "source": [
    "# making a dataframe of all the descriptors\n",
    "dpps = pd.read_csv('./descriptors/DPPS.csv', skiprows=[0, 1])\n",
    "ms_whim = pd.read_csv('./descriptors/MS-WHIM.csv', skiprows=[0, 1])\n",
    "physical = pd.read_csv('./descriptors/Physical.csv', skiprows=[0, 1])\n",
    "st_scale = pd.read_csv('./descriptors/ST-scale.csv', skiprows=[0, 1])\n",
    "t_scale = pd.read_csv('./descriptors/T-scale.csv', skiprows=[0, 1])\n",
    "vhse_scale = pd.read_csv('./descriptors/VHSE-scale.csv', skiprows=[0, 1])\n",
    "z_scale = pd.read_csv('./descriptors/Z-scale.csv', skiprows=[0, 1])\n",
    "\n",
    "descriptors_df = dpps.merge(ms_whim, on=['AA_3', 'AA_1']).merge(physical, on=['AA_3', 'AA_1']).merge(st_scale, on=['AA_3', 'AA_1']).merge(\n",
    "    t_scale, on=['AA_3', 'AA_1']).merge(vhse_scale, on=['AA_3', 'AA_1']).merge(z_scale, on=['AA_3', 'AA_1'])"
   ]
  },
  {
   "cell_type": "code",
   "execution_count": null,
   "metadata": {},
   "outputs": [
    {
     "data": {
      "text/html": [
       "<div>\n",
       "<style scoped>\n",
       "    .dataframe tbody tr th:only-of-type {\n",
       "        vertical-align: middle;\n",
       "    }\n",
       "\n",
       "    .dataframe tbody tr th {\n",
       "        vertical-align: top;\n",
       "    }\n",
       "\n",
       "    .dataframe thead th {\n",
       "        text-align: right;\n",
       "    }\n",
       "</style>\n",
       "<table border=\"1\" class=\"dataframe\">\n",
       "  <thead>\n",
       "    <tr style=\"text-align: right;\">\n",
       "      <th></th>\n",
       "      <th>ConstructedAASeq_cln</th>\n",
       "      <th>Id</th>\n",
       "      <th>AA_0_Feature_0</th>\n",
       "      <th>AA_0_Feature_1</th>\n",
       "      <th>AA_0_Feature_2</th>\n",
       "      <th>AA_0_Feature_3</th>\n",
       "      <th>AA_0_Feature_4</th>\n",
       "      <th>AA_0_Feature_5</th>\n",
       "      <th>AA_0_Feature_6</th>\n",
       "      <th>AA_0_Feature_7</th>\n",
       "      <th>...</th>\n",
       "      <th>AA_236_Feature_0</th>\n",
       "      <th>AA_236_Feature_1</th>\n",
       "      <th>AA_236_Feature_2</th>\n",
       "      <th>AA_236_Feature_3</th>\n",
       "      <th>AA_236_Feature_4</th>\n",
       "      <th>AA_236_Feature_5</th>\n",
       "      <th>AA_236_Feature_6</th>\n",
       "      <th>AA_236_Feature_7</th>\n",
       "      <th>AA_236_Feature_8</th>\n",
       "      <th>AA_236_Feature_9</th>\n",
       "    </tr>\n",
       "  </thead>\n",
       "  <tbody>\n",
       "    <tr>\n",
       "      <th>0</th>\n",
       "      <td>SKGEELFTGVVPILVELDGDVNGHKFSVSGEGEGDATYGKLTLKFI...</td>\n",
       "      <td>11328</td>\n",
       "      <td>-1.76</td>\n",
       "      <td>-0.19</td>\n",
       "      <td>1.06</td>\n",
       "      <td>-0.69</td>\n",
       "      <td>-5.72</td>\n",
       "      <td>0.14</td>\n",
       "      <td>-4.14</td>\n",
       "      <td>-2.42</td>\n",
       "      <td>...</td>\n",
       "      <td>2.47</td>\n",
       "      <td>1.54</td>\n",
       "      <td>-4.28</td>\n",
       "      <td>-0.86</td>\n",
       "      <td>2.77</td>\n",
       "      <td>2.06</td>\n",
       "      <td>-6.18</td>\n",
       "      <td>2.05</td>\n",
       "      <td>2.19</td>\n",
       "      <td>-1.65</td>\n",
       "    </tr>\n",
       "    <tr>\n",
       "      <th>1</th>\n",
       "      <td>SKGEELFTGVVPILVELDGDVNGHKFSVSGEGEGDATYGKLTLKFI...</td>\n",
       "      <td>5781</td>\n",
       "      <td>-1.76</td>\n",
       "      <td>-0.19</td>\n",
       "      <td>1.06</td>\n",
       "      <td>-0.69</td>\n",
       "      <td>-5.72</td>\n",
       "      <td>0.14</td>\n",
       "      <td>-4.14</td>\n",
       "      <td>-2.42</td>\n",
       "      <td>...</td>\n",
       "      <td>2.47</td>\n",
       "      <td>1.54</td>\n",
       "      <td>-4.28</td>\n",
       "      <td>-0.86</td>\n",
       "      <td>2.77</td>\n",
       "      <td>2.06</td>\n",
       "      <td>-6.18</td>\n",
       "      <td>2.05</td>\n",
       "      <td>2.19</td>\n",
       "      <td>-1.65</td>\n",
       "    </tr>\n",
       "    <tr>\n",
       "      <th>2</th>\n",
       "      <td>SKGEELFTGVVPILVELDGDVNGHKFSVSGEGEGDATYGKLTLKFI...</td>\n",
       "      <td>13681</td>\n",
       "      <td>-1.76</td>\n",
       "      <td>-0.19</td>\n",
       "      <td>1.06</td>\n",
       "      <td>-0.69</td>\n",
       "      <td>-5.72</td>\n",
       "      <td>0.14</td>\n",
       "      <td>-4.14</td>\n",
       "      <td>-2.42</td>\n",
       "      <td>...</td>\n",
       "      <td>2.47</td>\n",
       "      <td>1.54</td>\n",
       "      <td>-4.28</td>\n",
       "      <td>-0.86</td>\n",
       "      <td>2.77</td>\n",
       "      <td>2.06</td>\n",
       "      <td>-6.18</td>\n",
       "      <td>2.05</td>\n",
       "      <td>2.19</td>\n",
       "      <td>-1.65</td>\n",
       "    </tr>\n",
       "    <tr>\n",
       "      <th>3</th>\n",
       "      <td>SKGEELFTGVVPILVELDGDVNGHKFSVSGEGEGDATYGKLTLKFI...</td>\n",
       "      <td>30804</td>\n",
       "      <td>-1.76</td>\n",
       "      <td>-0.19</td>\n",
       "      <td>1.06</td>\n",
       "      <td>-0.69</td>\n",
       "      <td>-5.72</td>\n",
       "      <td>0.14</td>\n",
       "      <td>-4.14</td>\n",
       "      <td>-2.42</td>\n",
       "      <td>...</td>\n",
       "      <td>2.47</td>\n",
       "      <td>1.54</td>\n",
       "      <td>-4.28</td>\n",
       "      <td>-0.86</td>\n",
       "      <td>2.77</td>\n",
       "      <td>2.06</td>\n",
       "      <td>-6.18</td>\n",
       "      <td>2.05</td>\n",
       "      <td>2.19</td>\n",
       "      <td>-1.65</td>\n",
       "    </tr>\n",
       "    <tr>\n",
       "      <th>4</th>\n",
       "      <td>SKGEELFTGVVPILVELDGDVNGHTFSVSGEGEGDATYGELTLKFI...</td>\n",
       "      <td>30813</td>\n",
       "      <td>-1.76</td>\n",
       "      <td>-0.19</td>\n",
       "      <td>1.06</td>\n",
       "      <td>-0.69</td>\n",
       "      <td>-5.72</td>\n",
       "      <td>0.14</td>\n",
       "      <td>-4.14</td>\n",
       "      <td>-2.42</td>\n",
       "      <td>...</td>\n",
       "      <td>2.47</td>\n",
       "      <td>1.54</td>\n",
       "      <td>-4.28</td>\n",
       "      <td>-0.86</td>\n",
       "      <td>2.77</td>\n",
       "      <td>2.06</td>\n",
       "      <td>-6.18</td>\n",
       "      <td>2.05</td>\n",
       "      <td>2.19</td>\n",
       "      <td>-1.65</td>\n",
       "    </tr>\n",
       "  </tbody>\n",
       "</table>\n",
       "<p>5 rows × 2372 columns</p>\n",
       "</div>"
      ],
      "text/plain": [
       "                                ConstructedAASeq_cln     Id  AA_0_Feature_0  \\\n",
       "0  SKGEELFTGVVPILVELDGDVNGHKFSVSGEGEGDATYGKLTLKFI...  11328           -1.76   \n",
       "1  SKGEELFTGVVPILVELDGDVNGHKFSVSGEGEGDATYGKLTLKFI...   5781           -1.76   \n",
       "2  SKGEELFTGVVPILVELDGDVNGHKFSVSGEGEGDATYGKLTLKFI...  13681           -1.76   \n",
       "3  SKGEELFTGVVPILVELDGDVNGHKFSVSGEGEGDATYGKLTLKFI...  30804           -1.76   \n",
       "4  SKGEELFTGVVPILVELDGDVNGHTFSVSGEGEGDATYGELTLKFI...  30813           -1.76   \n",
       "\n",
       "   AA_0_Feature_1  AA_0_Feature_2  AA_0_Feature_3  AA_0_Feature_4  \\\n",
       "0           -0.19            1.06           -0.69           -5.72   \n",
       "1           -0.19            1.06           -0.69           -5.72   \n",
       "2           -0.19            1.06           -0.69           -5.72   \n",
       "3           -0.19            1.06           -0.69           -5.72   \n",
       "4           -0.19            1.06           -0.69           -5.72   \n",
       "\n",
       "   AA_0_Feature_5  AA_0_Feature_6  AA_0_Feature_7  ...  AA_236_Feature_0  \\\n",
       "0            0.14           -4.14           -2.42  ...              2.47   \n",
       "1            0.14           -4.14           -2.42  ...              2.47   \n",
       "2            0.14           -4.14           -2.42  ...              2.47   \n",
       "3            0.14           -4.14           -2.42  ...              2.47   \n",
       "4            0.14           -4.14           -2.42  ...              2.47   \n",
       "\n",
       "   AA_236_Feature_1  AA_236_Feature_2  AA_236_Feature_3  AA_236_Feature_4  \\\n",
       "0              1.54             -4.28             -0.86              2.77   \n",
       "1              1.54             -4.28             -0.86              2.77   \n",
       "2              1.54             -4.28             -0.86              2.77   \n",
       "3              1.54             -4.28             -0.86              2.77   \n",
       "4              1.54             -4.28             -0.86              2.77   \n",
       "\n",
       "   AA_236_Feature_5  AA_236_Feature_6  AA_236_Feature_7  AA_236_Feature_8  \\\n",
       "0              2.06             -6.18              2.05              2.19   \n",
       "1              2.06             -6.18              2.05              2.19   \n",
       "2              2.06             -6.18              2.05              2.19   \n",
       "3              2.06             -6.18              2.05              2.19   \n",
       "4              2.06             -6.18              2.05              2.19   \n",
       "\n",
       "   AA_236_Feature_9  \n",
       "0             -1.65  \n",
       "1             -1.65  \n",
       "2             -1.65  \n",
       "3             -1.65  \n",
       "4             -1.65  \n",
       "\n",
       "[5 rows x 2372 columns]"
      ]
     },
     "execution_count": 56,
     "metadata": {},
     "output_type": "execute_result"
    }
   ],
   "source": [
    "# mapping each amino acid sequence to the dpps features\n",
    "\n",
    "dpps_dict = dpps.drop(columns='AA_3').set_index(\"AA_1\")[[\n",
    "    \"D1\", \"D2\", \"D3\", \"D4\", \"D5\", \"D6\", \"D7\", \"D8\", \"D9\", \"D10\"]].to_dict(orient=\"index\")\n",
    "\n",
    "def map_sequence(sequence, dpps_dict):\n",
    "    mapped_descriptors = []\n",
    "    for aa in sequence:\n",
    "        if aa in dpps_dict:\n",
    "            mapped_descriptors.append(list(dpps_dict[aa].values()))\n",
    "    return np.array(mapped_descriptors)\n",
    "\n",
    "mapped_sequences = []\n",
    "for seq in train_X[\"ConstructedAASeq_cln\"]:\n",
    "    sequence_descriptors = map_sequence(seq, dpps_dict)\n",
    "    mapped_sequences.append(sequence_descriptors)\n",
    "\n",
    "train_X[\"Mapped_Descriptors\"] = mapped_sequences\n",
    "\n",
    "max_sequence_length = max(len(seq) for seq in train_X[\"ConstructedAASeq_cln\"]) \n",
    "n_features = 10  \n",
    "\n",
    "column_names = [\n",
    "    f\"AA_{aa_idx}_Feature_{feature_idx}\"\n",
    "    for aa_idx in range(max_sequence_length)\n",
    "    for feature_idx in range(n_features)\n",
    "]\n",
    "\n",
    "expanded_columns = []\n",
    "for descriptors in train_X[\"Mapped_Descriptors\"]:\n",
    "    padded_descriptors = np.pad(\n",
    "        descriptors, \n",
    "        ((0, max_sequence_length - len(descriptors)), (0, 0)), \n",
    "        constant_values=np.nan\n",
    "    )\n",
    "    expanded_columns.append(padded_descriptors.flatten())  \n",
    "\n",
    "expanded_df = pd.DataFrame(expanded_columns, columns=column_names)\n",
    "train_X_dpps = pd.concat([train_X.drop(columns=[\"Mapped_Descriptors\"]), expanded_df], axis=1)\n",
    "\n",
    "train_X_dpps.head()"
   ]
  },
  {
   "cell_type": "code",
   "execution_count": 57,
   "metadata": {},
   "outputs": [
    {
     "data": {
      "text/html": [
       "<div>\n",
       "<style scoped>\n",
       "    .dataframe tbody tr th:only-of-type {\n",
       "        vertical-align: middle;\n",
       "    }\n",
       "\n",
       "    .dataframe tbody tr th {\n",
       "        vertical-align: top;\n",
       "    }\n",
       "\n",
       "    .dataframe thead th {\n",
       "        text-align: right;\n",
       "    }\n",
       "</style>\n",
       "<table border=\"1\" class=\"dataframe\">\n",
       "  <thead>\n",
       "    <tr style=\"text-align: right;\">\n",
       "      <th></th>\n",
       "      <th>ConstructedAASeq_cln</th>\n",
       "      <th>Id</th>\n",
       "      <th>AA_0_Feature_0</th>\n",
       "      <th>AA_0_Feature_1</th>\n",
       "      <th>AA_0_Feature_2</th>\n",
       "      <th>AA_0_Feature_3</th>\n",
       "      <th>AA_0_Feature_4</th>\n",
       "      <th>AA_0_Feature_5</th>\n",
       "      <th>AA_0_Feature_6</th>\n",
       "      <th>AA_0_Feature_7</th>\n",
       "      <th>...</th>\n",
       "      <th>AA_236_Feature_0</th>\n",
       "      <th>AA_236_Feature_1</th>\n",
       "      <th>AA_236_Feature_2</th>\n",
       "      <th>AA_236_Feature_3</th>\n",
       "      <th>AA_236_Feature_4</th>\n",
       "      <th>AA_236_Feature_5</th>\n",
       "      <th>AA_236_Feature_6</th>\n",
       "      <th>AA_236_Feature_7</th>\n",
       "      <th>AA_236_Feature_8</th>\n",
       "      <th>AA_236_Feature_9</th>\n",
       "    </tr>\n",
       "  </thead>\n",
       "  <tbody>\n",
       "    <tr>\n",
       "      <th>0</th>\n",
       "      <td>SKGEELFTGVVPILVELDGDVNGHKFSVSGEGEGDATYGKLTLKFI...</td>\n",
       "      <td>50579</td>\n",
       "      <td>-1.76</td>\n",
       "      <td>-0.19</td>\n",
       "      <td>1.06</td>\n",
       "      <td>-0.69</td>\n",
       "      <td>-5.72</td>\n",
       "      <td>0.14</td>\n",
       "      <td>-4.14</td>\n",
       "      <td>-2.42</td>\n",
       "      <td>...</td>\n",
       "      <td>2.47</td>\n",
       "      <td>1.54</td>\n",
       "      <td>-4.28</td>\n",
       "      <td>-0.86</td>\n",
       "      <td>2.77</td>\n",
       "      <td>2.06</td>\n",
       "      <td>-6.18</td>\n",
       "      <td>2.05</td>\n",
       "      <td>2.19</td>\n",
       "      <td>-1.65</td>\n",
       "    </tr>\n",
       "    <tr>\n",
       "      <th>1</th>\n",
       "      <td>SKGEELFTGVVPILVELDGDVSGHKFSVSGEGEGDATYGKLTLKFI...</td>\n",
       "      <td>37987</td>\n",
       "      <td>-1.76</td>\n",
       "      <td>-0.19</td>\n",
       "      <td>1.06</td>\n",
       "      <td>-0.69</td>\n",
       "      <td>-5.72</td>\n",
       "      <td>0.14</td>\n",
       "      <td>-4.14</td>\n",
       "      <td>-2.42</td>\n",
       "      <td>...</td>\n",
       "      <td>2.47</td>\n",
       "      <td>1.54</td>\n",
       "      <td>-4.28</td>\n",
       "      <td>-0.86</td>\n",
       "      <td>2.77</td>\n",
       "      <td>2.06</td>\n",
       "      <td>-6.18</td>\n",
       "      <td>2.05</td>\n",
       "      <td>2.19</td>\n",
       "      <td>-1.65</td>\n",
       "    </tr>\n",
       "    <tr>\n",
       "      <th>2</th>\n",
       "      <td>SKGEELFTGVVPILVELDGDVNGHKFSVSGEGEGDATYGKLTLKFI...</td>\n",
       "      <td>53977</td>\n",
       "      <td>-1.76</td>\n",
       "      <td>-0.19</td>\n",
       "      <td>1.06</td>\n",
       "      <td>-0.69</td>\n",
       "      <td>-5.72</td>\n",
       "      <td>0.14</td>\n",
       "      <td>-4.14</td>\n",
       "      <td>-2.42</td>\n",
       "      <td>...</td>\n",
       "      <td>2.47</td>\n",
       "      <td>1.54</td>\n",
       "      <td>-4.28</td>\n",
       "      <td>-0.86</td>\n",
       "      <td>2.77</td>\n",
       "      <td>2.06</td>\n",
       "      <td>-6.18</td>\n",
       "      <td>2.05</td>\n",
       "      <td>2.19</td>\n",
       "      <td>-1.65</td>\n",
       "    </tr>\n",
       "    <tr>\n",
       "      <th>3</th>\n",
       "      <td>SKGEELFTGVVPILVELDGDVNGHKLSVSGEGEGDATYGKLTLKFI...</td>\n",
       "      <td>10677</td>\n",
       "      <td>-1.76</td>\n",
       "      <td>-0.19</td>\n",
       "      <td>1.06</td>\n",
       "      <td>-0.69</td>\n",
       "      <td>-5.72</td>\n",
       "      <td>0.14</td>\n",
       "      <td>-4.14</td>\n",
       "      <td>-2.42</td>\n",
       "      <td>...</td>\n",
       "      <td>2.47</td>\n",
       "      <td>1.54</td>\n",
       "      <td>-4.28</td>\n",
       "      <td>-0.86</td>\n",
       "      <td>2.77</td>\n",
       "      <td>2.06</td>\n",
       "      <td>-6.18</td>\n",
       "      <td>2.05</td>\n",
       "      <td>2.19</td>\n",
       "      <td>-1.65</td>\n",
       "    </tr>\n",
       "    <tr>\n",
       "      <th>4</th>\n",
       "      <td>SKGEELFTGVVPILVELDGDVNGHKFSVSGEGEGDATYGKLTLKFI...</td>\n",
       "      <td>35653</td>\n",
       "      <td>-1.76</td>\n",
       "      <td>-0.19</td>\n",
       "      <td>1.06</td>\n",
       "      <td>-0.69</td>\n",
       "      <td>-5.72</td>\n",
       "      <td>0.14</td>\n",
       "      <td>-4.14</td>\n",
       "      <td>-2.42</td>\n",
       "      <td>...</td>\n",
       "      <td>2.47</td>\n",
       "      <td>1.54</td>\n",
       "      <td>-4.28</td>\n",
       "      <td>-0.86</td>\n",
       "      <td>2.77</td>\n",
       "      <td>2.06</td>\n",
       "      <td>-6.18</td>\n",
       "      <td>2.05</td>\n",
       "      <td>2.19</td>\n",
       "      <td>-1.65</td>\n",
       "    </tr>\n",
       "  </tbody>\n",
       "</table>\n",
       "<p>5 rows × 2372 columns</p>\n",
       "</div>"
      ],
      "text/plain": [
       "                                ConstructedAASeq_cln     Id  AA_0_Feature_0  \\\n",
       "0  SKGEELFTGVVPILVELDGDVNGHKFSVSGEGEGDATYGKLTLKFI...  50579           -1.76   \n",
       "1  SKGEELFTGVVPILVELDGDVSGHKFSVSGEGEGDATYGKLTLKFI...  37987           -1.76   \n",
       "2  SKGEELFTGVVPILVELDGDVNGHKFSVSGEGEGDATYGKLTLKFI...  53977           -1.76   \n",
       "3  SKGEELFTGVVPILVELDGDVNGHKLSVSGEGEGDATYGKLTLKFI...  10677           -1.76   \n",
       "4  SKGEELFTGVVPILVELDGDVNGHKFSVSGEGEGDATYGKLTLKFI...  35653           -1.76   \n",
       "\n",
       "   AA_0_Feature_1  AA_0_Feature_2  AA_0_Feature_3  AA_0_Feature_4  \\\n",
       "0           -0.19            1.06           -0.69           -5.72   \n",
       "1           -0.19            1.06           -0.69           -5.72   \n",
       "2           -0.19            1.06           -0.69           -5.72   \n",
       "3           -0.19            1.06           -0.69           -5.72   \n",
       "4           -0.19            1.06           -0.69           -5.72   \n",
       "\n",
       "   AA_0_Feature_5  AA_0_Feature_6  AA_0_Feature_7  ...  AA_236_Feature_0  \\\n",
       "0            0.14           -4.14           -2.42  ...              2.47   \n",
       "1            0.14           -4.14           -2.42  ...              2.47   \n",
       "2            0.14           -4.14           -2.42  ...              2.47   \n",
       "3            0.14           -4.14           -2.42  ...              2.47   \n",
       "4            0.14           -4.14           -2.42  ...              2.47   \n",
       "\n",
       "   AA_236_Feature_1  AA_236_Feature_2  AA_236_Feature_3  AA_236_Feature_4  \\\n",
       "0              1.54             -4.28             -0.86              2.77   \n",
       "1              1.54             -4.28             -0.86              2.77   \n",
       "2              1.54             -4.28             -0.86              2.77   \n",
       "3              1.54             -4.28             -0.86              2.77   \n",
       "4              1.54             -4.28             -0.86              2.77   \n",
       "\n",
       "   AA_236_Feature_5  AA_236_Feature_6  AA_236_Feature_7  AA_236_Feature_8  \\\n",
       "0              2.06             -6.18              2.05              2.19   \n",
       "1              2.06             -6.18              2.05              2.19   \n",
       "2              2.06             -6.18              2.05              2.19   \n",
       "3              2.06             -6.18              2.05              2.19   \n",
       "4              2.06             -6.18              2.05              2.19   \n",
       "\n",
       "   AA_236_Feature_9  \n",
       "0             -1.65  \n",
       "1             -1.65  \n",
       "2             -1.65  \n",
       "3             -1.65  \n",
       "4             -1.65  \n",
       "\n",
       "[5 rows x 2372 columns]"
      ]
     },
     "execution_count": 57,
     "metadata": {},
     "output_type": "execute_result"
    }
   ],
   "source": [
    "dpps_dict = dpps.drop(columns='AA_3').set_index(\"AA_1\")[[\n",
    "    \"D1\", \"D2\", \"D3\", \"D4\", \"D5\", \"D6\", \"D7\", \"D8\", \"D9\", \"D10\"]].to_dict(orient=\"index\")\n",
    "\n",
    "def map_sequence(sequence, dpps_dict):\n",
    "    mapped_descriptors = []\n",
    "    for aa in sequence:\n",
    "        if aa in dpps_dict:\n",
    "            mapped_descriptors.append(list(dpps_dict[aa].values()))\n",
    "    return np.array(mapped_descriptors)\n",
    "\n",
    "mapped_sequences = []\n",
    "for seq in test_X[\"ConstructedAASeq_cln\"]:\n",
    "    sequence_descriptors = map_sequence(seq, dpps_dict)\n",
    "    mapped_sequences.append(sequence_descriptors)\n",
    "\n",
    "test_X[\"Mapped_Descriptors\"] = mapped_sequences\n",
    "\n",
    "max_sequence_length = max(len(seq) for seq in test_X[\"ConstructedAASeq_cln\"]) \n",
    "n_features = 10  \n",
    "\n",
    "column_names = [\n",
    "    f\"AA_{aa_idx}_Feature_{feature_idx}\"\n",
    "    for aa_idx in range(max_sequence_length)\n",
    "    for feature_idx in range(n_features)\n",
    "]\n",
    "\n",
    "expanded_columns = []\n",
    "for descriptors in test_X[\"Mapped_Descriptors\"]:\n",
    "    padded_descriptors = np.pad(\n",
    "        descriptors, \n",
    "        ((0, max_sequence_length - len(descriptors)), (0, 0)), \n",
    "        constant_values=np.nan\n",
    "    )\n",
    "    expanded_columns.append(padded_descriptors.flatten())  \n",
    "\n",
    "expanded_df = pd.DataFrame(expanded_columns, columns=column_names)\n",
    "test_X_dpps = pd.concat([test_X.drop(columns=[\"Mapped_Descriptors\"]), expanded_df], axis=1)\n",
    "\n",
    "test_X_dpps.head()"
   ]
  },
  {
   "cell_type": "code",
   "execution_count": 58,
   "metadata": {},
   "outputs": [
    {
     "name": "stdout",
     "output_type": "stream",
     "text": [
      "(31029, 4418)\n",
      "(20686, 4418)\n"
     ]
    }
   ],
   "source": [
    "# performing one-hot encoding on the amino acid sequences\n",
    "combined_sequences = pd.concat([train_X_dpps['ConstructedAASeq_cln'], test_X_dpps['ConstructedAASeq_cln']], axis=0)\n",
    "combined_split = combined_sequences.apply(list).tolist()\n",
    "\n",
    "enc = OneHotEncoder(sparse_output=False)\n",
    "enc.fit(combined_split)\n",
    "\n",
    "train_encoded = enc.transform(train_X_dpps['ConstructedAASeq_cln'].apply(list).tolist())\n",
    "test_encoded = enc.transform(test_X_dpps['ConstructedAASeq_cln'].apply(list).tolist())\n",
    "\n",
    "train_encoded_df = pd.DataFrame(train_encoded, columns=enc.get_feature_names_out())\n",
    "test_encoded_df = pd.DataFrame(test_encoded, columns=enc.get_feature_names_out())\n",
    "\n",
    "train_X_with_dpps = pd.concat([train_encoded_df, train_X_dpps.drop(columns=['ConstructedAASeq_cln'])], axis=1)\n",
    "test_X_with_dpps = pd.concat([test_encoded_df, test_X_dpps.drop(columns=['ConstructedAASeq_cln'])], axis=1)\n",
    "\n",
    "print(train_X_with_dpps.shape)\n",
    "print(test_X_with_dpps.shape)"
   ]
  },
  {
   "cell_type": "code",
   "execution_count": 59,
   "metadata": {},
   "outputs": [
    {
     "data": {
      "text/html": [
       "<div>\n",
       "<style scoped>\n",
       "    .dataframe tbody tr th:only-of-type {\n",
       "        vertical-align: middle;\n",
       "    }\n",
       "\n",
       "    .dataframe tbody tr th {\n",
       "        vertical-align: top;\n",
       "    }\n",
       "\n",
       "    .dataframe thead th {\n",
       "        text-align: right;\n",
       "    }\n",
       "</style>\n",
       "<table border=\"1\" class=\"dataframe\">\n",
       "  <thead>\n",
       "    <tr style=\"text-align: right;\">\n",
       "      <th></th>\n",
       "      <th>x0_S</th>\n",
       "      <th>x1_E</th>\n",
       "      <th>x1_K</th>\n",
       "      <th>x1_M</th>\n",
       "      <th>x1_N</th>\n",
       "      <th>x1_Q</th>\n",
       "      <th>x1_R</th>\n",
       "      <th>x1_T</th>\n",
       "      <th>x2_A</th>\n",
       "      <th>x2_C</th>\n",
       "      <th>...</th>\n",
       "      <th>AA_236_Feature_0</th>\n",
       "      <th>AA_236_Feature_1</th>\n",
       "      <th>AA_236_Feature_2</th>\n",
       "      <th>AA_236_Feature_3</th>\n",
       "      <th>AA_236_Feature_4</th>\n",
       "      <th>AA_236_Feature_5</th>\n",
       "      <th>AA_236_Feature_6</th>\n",
       "      <th>AA_236_Feature_7</th>\n",
       "      <th>AA_236_Feature_8</th>\n",
       "      <th>AA_236_Feature_9</th>\n",
       "    </tr>\n",
       "  </thead>\n",
       "  <tbody>\n",
       "    <tr>\n",
       "      <th>0</th>\n",
       "      <td>1.0</td>\n",
       "      <td>0.0</td>\n",
       "      <td>1.0</td>\n",
       "      <td>0.0</td>\n",
       "      <td>0.0</td>\n",
       "      <td>0.0</td>\n",
       "      <td>0.0</td>\n",
       "      <td>0.0</td>\n",
       "      <td>0.0</td>\n",
       "      <td>0.0</td>\n",
       "      <td>...</td>\n",
       "      <td>2.47</td>\n",
       "      <td>1.54</td>\n",
       "      <td>-4.28</td>\n",
       "      <td>-0.86</td>\n",
       "      <td>2.77</td>\n",
       "      <td>2.06</td>\n",
       "      <td>-6.18</td>\n",
       "      <td>2.05</td>\n",
       "      <td>2.19</td>\n",
       "      <td>-1.65</td>\n",
       "    </tr>\n",
       "    <tr>\n",
       "      <th>1</th>\n",
       "      <td>1.0</td>\n",
       "      <td>0.0</td>\n",
       "      <td>1.0</td>\n",
       "      <td>0.0</td>\n",
       "      <td>0.0</td>\n",
       "      <td>0.0</td>\n",
       "      <td>0.0</td>\n",
       "      <td>0.0</td>\n",
       "      <td>0.0</td>\n",
       "      <td>0.0</td>\n",
       "      <td>...</td>\n",
       "      <td>2.47</td>\n",
       "      <td>1.54</td>\n",
       "      <td>-4.28</td>\n",
       "      <td>-0.86</td>\n",
       "      <td>2.77</td>\n",
       "      <td>2.06</td>\n",
       "      <td>-6.18</td>\n",
       "      <td>2.05</td>\n",
       "      <td>2.19</td>\n",
       "      <td>-1.65</td>\n",
       "    </tr>\n",
       "    <tr>\n",
       "      <th>2</th>\n",
       "      <td>1.0</td>\n",
       "      <td>0.0</td>\n",
       "      <td>1.0</td>\n",
       "      <td>0.0</td>\n",
       "      <td>0.0</td>\n",
       "      <td>0.0</td>\n",
       "      <td>0.0</td>\n",
       "      <td>0.0</td>\n",
       "      <td>0.0</td>\n",
       "      <td>0.0</td>\n",
       "      <td>...</td>\n",
       "      <td>2.47</td>\n",
       "      <td>1.54</td>\n",
       "      <td>-4.28</td>\n",
       "      <td>-0.86</td>\n",
       "      <td>2.77</td>\n",
       "      <td>2.06</td>\n",
       "      <td>-6.18</td>\n",
       "      <td>2.05</td>\n",
       "      <td>2.19</td>\n",
       "      <td>-1.65</td>\n",
       "    </tr>\n",
       "    <tr>\n",
       "      <th>3</th>\n",
       "      <td>1.0</td>\n",
       "      <td>0.0</td>\n",
       "      <td>1.0</td>\n",
       "      <td>0.0</td>\n",
       "      <td>0.0</td>\n",
       "      <td>0.0</td>\n",
       "      <td>0.0</td>\n",
       "      <td>0.0</td>\n",
       "      <td>0.0</td>\n",
       "      <td>0.0</td>\n",
       "      <td>...</td>\n",
       "      <td>2.47</td>\n",
       "      <td>1.54</td>\n",
       "      <td>-4.28</td>\n",
       "      <td>-0.86</td>\n",
       "      <td>2.77</td>\n",
       "      <td>2.06</td>\n",
       "      <td>-6.18</td>\n",
       "      <td>2.05</td>\n",
       "      <td>2.19</td>\n",
       "      <td>-1.65</td>\n",
       "    </tr>\n",
       "    <tr>\n",
       "      <th>4</th>\n",
       "      <td>1.0</td>\n",
       "      <td>0.0</td>\n",
       "      <td>1.0</td>\n",
       "      <td>0.0</td>\n",
       "      <td>0.0</td>\n",
       "      <td>0.0</td>\n",
       "      <td>0.0</td>\n",
       "      <td>0.0</td>\n",
       "      <td>0.0</td>\n",
       "      <td>0.0</td>\n",
       "      <td>...</td>\n",
       "      <td>2.47</td>\n",
       "      <td>1.54</td>\n",
       "      <td>-4.28</td>\n",
       "      <td>-0.86</td>\n",
       "      <td>2.77</td>\n",
       "      <td>2.06</td>\n",
       "      <td>-6.18</td>\n",
       "      <td>2.05</td>\n",
       "      <td>2.19</td>\n",
       "      <td>-1.65</td>\n",
       "    </tr>\n",
       "  </tbody>\n",
       "</table>\n",
       "<p>5 rows × 4418 columns</p>\n",
       "</div>"
      ],
      "text/plain": [
       "   x0_S  x1_E  x1_K  x1_M  x1_N  x1_Q  x1_R  x1_T  x2_A  x2_C  ...  \\\n",
       "0   1.0   0.0   1.0   0.0   0.0   0.0   0.0   0.0   0.0   0.0  ...   \n",
       "1   1.0   0.0   1.0   0.0   0.0   0.0   0.0   0.0   0.0   0.0  ...   \n",
       "2   1.0   0.0   1.0   0.0   0.0   0.0   0.0   0.0   0.0   0.0  ...   \n",
       "3   1.0   0.0   1.0   0.0   0.0   0.0   0.0   0.0   0.0   0.0  ...   \n",
       "4   1.0   0.0   1.0   0.0   0.0   0.0   0.0   0.0   0.0   0.0  ...   \n",
       "\n",
       "   AA_236_Feature_0  AA_236_Feature_1  AA_236_Feature_2  AA_236_Feature_3  \\\n",
       "0              2.47              1.54             -4.28             -0.86   \n",
       "1              2.47              1.54             -4.28             -0.86   \n",
       "2              2.47              1.54             -4.28             -0.86   \n",
       "3              2.47              1.54             -4.28             -0.86   \n",
       "4              2.47              1.54             -4.28             -0.86   \n",
       "\n",
       "   AA_236_Feature_4  AA_236_Feature_5  AA_236_Feature_6  AA_236_Feature_7  \\\n",
       "0              2.77              2.06             -6.18              2.05   \n",
       "1              2.77              2.06             -6.18              2.05   \n",
       "2              2.77              2.06             -6.18              2.05   \n",
       "3              2.77              2.06             -6.18              2.05   \n",
       "4              2.77              2.06             -6.18              2.05   \n",
       "\n",
       "   AA_236_Feature_8  AA_236_Feature_9  \n",
       "0              2.19             -1.65  \n",
       "1              2.19             -1.65  \n",
       "2              2.19             -1.65  \n",
       "3              2.19             -1.65  \n",
       "4              2.19             -1.65  \n",
       "\n",
       "[5 rows x 4418 columns]"
      ]
     },
     "execution_count": 59,
     "metadata": {},
     "output_type": "execute_result"
    }
   ],
   "source": [
    "train_X_with_dpps.head()"
   ]
  },
  {
   "cell_type": "code",
   "execution_count": 38,
   "metadata": {},
   "outputs": [],
   "source": [
    "scaler = StandardScaler()\n",
    "train_X_with_dpps = scaler.fit_transform(train_X_with_dpps)\n",
    "test_X_with_dpps = scaler.fit_transform(test_X_with_dpps)"
   ]
  },
  {
   "cell_type": "markdown",
   "metadata": {},
   "source": [
    "# Making a new train-test split to evaluate different models"
   ]
  },
  {
   "cell_type": "code",
   "execution_count": 40,
   "metadata": {},
   "outputs": [
    {
     "name": "stdout",
     "output_type": "stream",
     "text": [
      "x_train shape: (21720, 4418)\n",
      "x_test shape: (9309, 4418)\n",
      "y_train shape: (21720,)\n",
      "y_test shape: (9309,)\n"
     ]
    }
   ],
   "source": [
    "x_train, x_test, y_train, y_test = train_test_split(train_X_with_dpps, train_y, test_size=0.3, random_state=42)\n",
    "\n",
    "print(\"x_train shape:\", x_train.shape)\n",
    "print(\"x_test shape:\", x_test.shape)\n",
    "print(\"y_train shape:\", y_train.shape)\n",
    "print(\"y_test shape:\", y_test.shape)\n",
    "\n",
    "y_train = np.ravel(y_train)"
   ]
  },
  {
   "cell_type": "code",
   "execution_count": 131,
   "metadata": {},
   "outputs": [
    {
     "name": "stderr",
     "output_type": "stream",
     "text": [
      "/opt/anaconda3/lib/python3.12/site-packages/sklearn/linear_model/_logistic.py:469: ConvergenceWarning: lbfgs failed to converge (status=1):\n",
      "STOP: TOTAL NO. of ITERATIONS REACHED LIMIT.\n",
      "\n",
      "Increase the number of iterations (max_iter) or scale the data as shown in:\n",
      "    https://scikit-learn.org/stable/modules/preprocessing.html\n",
      "Please also refer to the documentation for alternative solver options:\n",
      "    https://scikit-learn.org/stable/modules/linear_model.html#logistic-regression\n",
      "  n_iter_i = _check_optimize_result(\n"
     ]
    },
    {
     "name": "stdout",
     "output_type": "stream",
     "text": [
      "Accuracy: 88.86024277580836 %\n"
     ]
    }
   ],
   "source": [
    "lor = LogisticRegression(max_iter=10000)\n",
    "model = lor.fit(x_train, y_train)\n",
    "y_pred = model.predict(x_test)\n",
    "print(\"Accuracy:\", accuracy_score(y_test, y_pred)*100, \"%\")"
   ]
  },
  {
   "cell_type": "code",
   "execution_count": 132,
   "metadata": {},
   "outputs": [
    {
     "name": "stdout",
     "output_type": "stream",
     "text": [
      "Accuracy: 88.66688151251478 %\n"
     ]
    }
   ],
   "source": [
    "lor = LogisticRegression(penalty='l1', solver=\"liblinear\", max_iter=10000)\n",
    "model = lor.fit(x_train, y_train)\n",
    "y_pred = model.predict(x_test)\n",
    "print(\"Accuracy:\", accuracy_score(y_test, y_pred)*100, \"%\")"
   ]
  },
  {
   "cell_type": "code",
   "execution_count": 188,
   "metadata": {},
   "outputs": [
    {
     "name": "stdout",
     "output_type": "stream",
     "text": [
      "Accuracy: 88.18347835428081 %\n",
      "F1 Score: 85.5907780979827 %\n"
     ]
    }
   ],
   "source": [
    "lor = LogisticRegression(penalty=\"l2\", class_weight='balanced', max_iter=1000)\n",
    "model = lor.fit(x_train, y_train)\n",
    "y_pred = model.predict(x_test)\n",
    "print(\"Accuracy:\", accuracy_score(y_test, y_pred)*100, \"%\")\n",
    "print(\"F1 Score:\", f1_score(y_test, y_pred)*100, \"%\")"
   ]
  },
  {
   "cell_type": "code",
   "execution_count": 189,
   "metadata": {},
   "outputs": [
    {
     "name": "stdout",
     "output_type": "stream",
     "text": [
      "Accuracy: 88.83875819099796 %\n",
      "F1 Score: 85.88123386329664 %\n"
     ]
    }
   ],
   "source": [
    "lor = LogisticRegression(C=0.1, penalty='l2', max_iter=1000)\n",
    "model = lor.fit(x_train, y_train)\n",
    "y_pred = model.predict(x_test)\n",
    "\n",
    "print(\"Accuracy:\", accuracy_score(y_test, y_pred)*100, \"%\")\n",
    "print(\"F1 Score:\", f1_score(y_test, y_pred)*100, \"%\")"
   ]
  },
  {
   "cell_type": "code",
   "execution_count": 41,
   "metadata": {},
   "outputs": [
    {
     "name": "stdout",
     "output_type": "stream",
     "text": [
      "Accuracy: 88.88172736061875 %\n",
      "F1 Score: 86.00027052617341 %\n"
     ]
    }
   ],
   "source": [
    "lor = LogisticRegression(C=0.1, penalty='l1', solver='liblinear', max_iter=1000)\n",
    "model = lor.fit(x_train, y_train)\n",
    "y_pred = model.predict(x_test)\n",
    "print(\"Accuracy:\", accuracy_score(y_test, y_pred)*100, \"%\")\n",
    "print(\"F1 Score:\", f1_score(y_test, y_pred)*100, \"%\")"
   ]
  },
  {
   "cell_type": "code",
   "execution_count": 10,
   "metadata": {},
   "outputs": [
    {
     "name": "stdout",
     "output_type": "stream",
     "text": [
      "Accuracy: 84.0369534858739 %\n"
     ]
    }
   ],
   "source": [
    "clf = svm.SVC()\n",
    "clf.fit(x_train, y_train)\n",
    "y_pred = clf.predict(x_test)\n",
    "print(\"Accuracy:\", accuracy_score(y_test, y_pred)*100, \"%\")"
   ]
  },
  {
   "cell_type": "code",
   "execution_count": 127,
   "metadata": {},
   "outputs": [
    {
     "name": "stdout",
     "output_type": "stream",
     "text": [
      "Accuracy: 81.29766892254807 %\n"
     ]
    }
   ],
   "source": [
    "dt_model = DecisionTreeClassifier(random_state=42)\n",
    "dt_model.fit(x_train, y_train)\n",
    "y_pred = dt_model.predict(x_test)\n",
    "print(\"Accuracy:\", accuracy_score(y_test, y_pred)*100, \"%\")"
   ]
  },
  {
   "cell_type": "code",
   "execution_count": 143,
   "metadata": {},
   "outputs": [
    {
     "name": "stdout",
     "output_type": "stream",
     "text": [
      "Accuracy: 85.2078633580406 %\n"
     ]
    }
   ],
   "source": [
    "rc = RidgeClassifier()\n",
    "model = rc.fit(x_train, y_train)\n",
    "y_pred = model.predict(x_test)\n",
    "print(\"Accuracy:\", accuracy_score(y_test, y_pred)*100, \"%\")"
   ]
  },
  {
   "cell_type": "markdown",
   "metadata": {},
   "source": [
    "# Making predictions on the actual data"
   ]
  },
  {
   "cell_type": "code",
   "execution_count": 148,
   "metadata": {},
   "outputs": [
    {
     "name": "stdout",
     "output_type": "stream",
     "text": [
      "Cross-validation Accuracy: 0.86513\n"
     ]
    }
   ],
   "source": [
    "# stacking classifier\n",
    "base_learners = [\n",
    "    ('rc', RidgeClassifier()),                    \n",
    "]\n",
    "\n",
    "meta_learner = LogisticRegression()\n",
    "\n",
    "stacked_clf = StackingClassifier(\n",
    "    estimators=base_learners,\n",
    "    final_estimator=meta_learner, \n",
    "    passthrough=False \n",
    ")\n",
    "\n",
    "stacked_clf.fit(train_X, train_y)\n",
    "pred_y = stacked_clf.predict(test_X)\n",
    "\n",
    "skf = StratifiedKFold(n_splits=5, shuffle=True, random_state=42)\n",
    "cross_val_scores = cross_val_score(stacked_clf, train_X, train_y, cv=skf, scoring='accuracy')\n",
    "print(f\"Cross-validation Accuracy: {cross_val_scores.mean():.5f}\")"
   ]
  },
  {
   "cell_type": "code",
   "execution_count": 151,
   "metadata": {},
   "outputs": [
    {
     "name": "stdout",
     "output_type": "stream",
     "text": [
      "Cross-validation Accuracy: 0.86651\n"
     ]
    }
   ],
   "source": [
    "lor = LogisticRegression(C=0.1, solver='saga', penalty='elasticnet', l1_ratio=0.5, max_iter=10000)\n",
    "model = lor.fit(train_X, train_y)\n",
    "pred_y = model.predict(test_X)\n",
    "\n",
    "skf = StratifiedKFold(n_splits=5, shuffle=True, random_state=42)\n",
    "cross_val_scores = cross_val_score(lor, train_X, train_y, cv=skf, scoring='accuracy')\n",
    "print(f\"Cross-validation Accuracy: {cross_val_scores.mean():.5f}\")"
   ]
  },
  {
   "cell_type": "code",
   "execution_count": null,
   "metadata": {},
   "outputs": [
    {
     "name": "stdout",
     "output_type": "stream",
     "text": [
      "Cross-validation Accuracy: 0.89294\n"
     ]
    }
   ],
   "source": [
    "lor = LogisticRegression(C=0.1, penalty='l1', solver='liblinear', max_iter=10000)\n",
    "model = lor.fit(train_X_with_dpps, train_y)\n",
    "pred_y_lor1 = model.predict(test_X_with_dpps)\n",
    "\n",
    "skf = StratifiedKFold(n_splits=3, shuffle=True, random_state=42)\n",
    "cross_val_scores = cross_val_score(lor, train_X_with_dpps, train_y, cv=skf, scoring='accuracy')\n",
    "print(f\"Cross-validation Accuracy: {cross_val_scores.mean():.5f}\")\n",
    "# only running this model\n",
    "# 0.89294- c=0.1, l1, lib"
   ]
  },
  {
   "cell_type": "code",
   "execution_count": 49,
   "metadata": {},
   "outputs": [],
   "source": [
    "lor = LogisticRegression(C=0.1, penalty='l1', solver='saga', max_iter=10000)\n",
    "model = lor.fit(train_X_with_dpps, train_y)\n",
    "pred_y_lor3 = model.predict(test_X_with_dpps)"
   ]
  },
  {
   "cell_type": "code",
   "execution_count": 24,
   "metadata": {},
   "outputs": [
    {
     "name": "stdout",
     "output_type": "stream",
     "text": [
      "Cross-validation Accuracy: 0.87766\n"
     ]
    }
   ],
   "source": [
    "lor = LogisticRegression(C=0.1, penalty='l2', max_iter=10000)\n",
    "model = lor.fit(train_X, train_y)\n",
    "pred_y = model.predict(test_X)\n",
    "\n",
    "skf = StratifiedKFold(n_splits=3, shuffle=True, random_state=42)\n",
    "cross_val_scores = cross_val_score(lor, train_X, train_y, cv=skf, scoring='accuracy')\n",
    "print(f\"Cross-validation Accuracy: {cross_val_scores.mean():.5f}\")"
   ]
  },
  {
   "cell_type": "code",
   "execution_count": 60,
   "metadata": {},
   "outputs": [
    {
     "name": "stdout",
     "output_type": "stream",
     "text": [
      "Cross-validation Accuracy: 0.87963\n"
     ]
    }
   ],
   "source": [
    "lor = LogisticRegression(C=0.1, penalty='l2', max_iter=10000)\n",
    "model = lor.fit(train_X, train_y)\n",
    "pred_y = model.predict(test_X)\n",
    "\n",
    "skf = StratifiedKFold(n_splits=5, shuffle=True, random_state=42)\n",
    "cross_val_scores = cross_val_score(lor, train_X, train_y, cv=skf, scoring='accuracy')\n",
    "print(f\"Cross-validation Accuracy: {cross_val_scores.mean():.5f}\")"
   ]
  },
  {
   "cell_type": "code",
   "execution_count": null,
   "metadata": {},
   "outputs": [
    {
     "name": "stdout",
     "output_type": "stream",
     "text": [
      "Cross-validation Accuracy: 0.89342\n"
     ]
    }
   ],
   "source": [
    "lor = LogisticRegression(penalty='l2', max_iter=1000)\n",
    "model = lor.fit(train_X, train_y)\n",
    "pred_y = model.predict(test_X)\n",
    "\n",
    "skf = StratifiedKFold(n_splits=5, shuffle=True, random_state=42)\n",
    "cross_val_scores = cross_val_score(lor, train_X, train_y, cv=skf, scoring='accuracy')\n",
    "print(f\"Cross-validation Accuracy: {cross_val_scores.mean():.5f}\")"
   ]
  },
  {
   "cell_type": "code",
   "execution_count": null,
   "metadata": {},
   "outputs": [
    {
     "name": "stdout",
     "output_type": "stream",
     "text": [
      "Cross-validation Accuracy: 0.80870\n"
     ]
    }
   ],
   "source": [
    "dt = DecisionTreeClassifier(random_state=42)\n",
    "dt.fit(train_X, train_y)\n",
    "pred_y = dt.predict(test_X)\n",
    "\n",
    "skf = StratifiedKFold(n_splits=5, shuffle=True, random_state=42)\n",
    "cross_val_scores = cross_val_score(dt, train_X, train_y, cv=skf, scoring='accuracy')\n",
    "print(f\"Cross-validation Accuracy: {cross_val_scores.mean():.5f}\")"
   ]
  },
  {
   "cell_type": "code",
   "execution_count": null,
   "metadata": {},
   "outputs": [],
   "source": [
    "clf = svm.SVC()\n",
    "model = clf.fit(train_X, train_y)\n",
    "pred_y = clf.predict(test_X)"
   ]
  },
  {
   "cell_type": "code",
   "execution_count": 145,
   "metadata": {},
   "outputs": [
    {
     "name": "stdout",
     "output_type": "stream",
     "text": [
      "Cross-validation Accuracy: 0.85278\n"
     ]
    }
   ],
   "source": [
    "rc = RidgeClassifier()\n",
    "model = rc.fit(train_X, train_y)\n",
    "pred_y = model.predict(test_X)\n",
    "\n",
    "skf = StratifiedKFold(n_splits=5, shuffle=True, random_state=42)\n",
    "cross_val_scores = cross_val_score(rc, train_X, train_y, cv=skf, scoring='accuracy')\n",
    "print(f\"Cross-validation Accuracy: {cross_val_scores.mean():.5f}\")"
   ]
  },
  {
   "cell_type": "code",
   "execution_count": 50,
   "metadata": {},
   "outputs": [],
   "source": [
    "pd.DataFrame({\n",
    "    'Id': ids, \n",
    "    'Brightness Class': pred_y_lor3\n",
    "}).to_csv('test_y_lorsaga_with_dpps.csv', index=False)"
   ]
  },
  {
   "cell_type": "code",
   "execution_count": null,
   "metadata": {},
   "outputs": [],
   "source": []
  }
 ],
 "metadata": {
  "kernelspec": {
   "display_name": "base",
   "language": "python",
   "name": "python3"
  },
  "language_info": {
   "codemirror_mode": {
    "name": "ipython",
    "version": 3
   },
   "file_extension": ".py",
   "mimetype": "text/x-python",
   "name": "python",
   "nbconvert_exporter": "python",
   "pygments_lexer": "ipython3",
   "version": "3.12.4"
  }
 },
 "nbformat": 4,
 "nbformat_minor": 2
}
